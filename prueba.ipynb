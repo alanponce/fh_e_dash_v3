{
 "cells": [
  {
   "cell_type": "code",
   "execution_count": 4,
   "metadata": {},
   "outputs": [],
   "source": [
    "import pandas as pd\n",
    "import numpy as np\n",
    "import datetime as dt\n",
    "import base64\n",
    "import math\n",
    "import plotly.graph_objects as go\n",
    "\n",
    "from functions.functions_data import get_global_daily, get_global_daily_v2, get_rolling, get_rolling_values\n",
    "from functions.functions_graphics import plot_engagements_users, plot_metrics, plot_engagements_users_comparative\n",
    "from functions.functions_data import get_engagement_list_v2, get_rolling_v2\n"
   ]
  },
  {
   "cell_type": "code",
   "execution_count": 5,
   "metadata": {},
   "outputs": [],
   "source": [
    "\n",
    "#function to get group of age\n",
    "def get_group_age(number):\n",
    "    if 18 <= number <= 29:\n",
    "        return \"18-29\"\n",
    "    elif 30 <= number <= 39:\n",
    "        return \"30-39\"\n",
    "    elif 40 <= number <= 49:\n",
    "        return \"40-49\"\n",
    "    elif 50 <= number <= 59:\n",
    "        return \"50-59\"\n",
    "    elif 60 <= number <= 69:\n",
    "        return \"60-69\"\n",
    "    elif 70 <= number <= 79:\n",
    "        return \"70-79\"\n",
    "    else:\n",
    "        return \"80+\""
   ]
  },
  {
   "cell_type": "code",
   "execution_count": 6,
   "metadata": {},
   "outputs": [],
   "source": [
    "#read the data\n",
    "path_to_csv = \"data/data_20230619.csv\"\n",
    "df = pd.read_csv(path_to_csv, parse_dates=['EventDateTime'], dtype={'CurrentPlatform': str,\n",
    "                                                                    'CurrentType': str,\n",
    "                                                                    'Platform': str,\n",
    "                                                                    'Version': str})\n",
    "#change data type\n",
    "df['EventDateTime'] = pd.to_datetime(df['EventDateTime'])\n",
    "#import csv with total balance \n",
    "path_to_csv_total_balance = \"data/20230609-users.csv\"\n",
    "df_total_balance = pd.read_csv(path_to_csv_total_balance)\n",
    "df_total_balance = df_total_balance.rename(columns = {'userId':'UserId'})\n",
    "#merge csv\n",
    "df = df.merge(df_total_balance, left_on='UserId', right_on='UserId', how='left')    \n",
    "#User_client\n",
    "#if totalBalance is greater 3 then is a Client, else is an User\n",
    "df['User_Client'] = df['totalBalance'].apply(lambda x: 'Client' if x > 3 else 'User')\n",
    "#get group of age\n",
    "df[\"Group_age\"] = df[\"Age\"].apply(lambda x: get_group_age(x))\n",
    "#Abreviaturas de los estados de USA\n",
    "df_states = pd.read_csv(\"data/abreviaturas_USA.csv\")\n"
   ]
  },
  {
   "cell_type": "code",
   "execution_count": 7,
   "metadata": {},
   "outputs": [],
   "source": [
    "engagement_list = get_engagement_list_v2(df = df, start_date= str(\"2023-03-15\"), end_data= str(\"2023-06-15\")  )\n"
   ]
  },
  {
   "cell_type": "code",
   "execution_count": 11,
   "metadata": {},
   "outputs": [],
   "source": [
    "global_metrics_v2 = get_global_daily_v2(engagement_list[engagement_list[\"UTMCampaign\"].isin([\"applaunch\",\"APP_EN_IRA_RET_ACCOUNT-CREATION-FAILURE\"])], \"UTMCampaign\")\n",
    "rolled_v2 = get_rolling_v2(global_metrics_v2,int(7), df, \"UTMCampaign\")"
   ]
  },
  {
   "cell_type": "code",
   "execution_count": 22,
   "metadata": {},
   "outputs": [],
   "source": [
    "def plot_engagements_users_comparative_v2(dataset, label, columna, filtros):\n",
    "  \"\"\"\n",
    "  dataset: DataFrame\n",
    "  label: str\n",
    "  columna: name of the column for groupby\n",
    "  filtros: active filtros of column\n",
    "\n",
    "  Plot a figure with the Engagements and Unique Users.\n",
    "  \"\"\"\n",
    "  # Initialize figure\n",
    "  fig = go.Figure()\n",
    "\n",
    "  # Add Traces\n",
    "  data = dataset.copy()\n",
    "\n",
    "  for f in filtros:\n",
    "    data_temp= data[data[columna] == f]\n",
    "    random_color= \"#\"+''.join([random.choice('0123456789ABCDEF') for i in range(6)])\n",
    "    fig.add_trace(go.Scatter(x=data_temp[\"EventDateTime\"], \n",
    "      y=data_temp[\"Engagements\"],\n",
    "      name=\"Engagements \" + f, \n",
    "      mode=\"lines\", \n",
    "      line=dict(color=random_color)\n",
    "      ))\n",
    "\n",
    "    fig.add_trace(go.Scatter(x=data_temp[\"EventDateTime\"], \n",
    "      y=data_temp[\"Unique_users\"], \n",
    "      name=\"Unique_users \"+ f, \n",
    "      mode=\"lines\", \n",
    "      line=dict(color=random_color, dash=\"dash\")\n",
    "      ))\n",
    "\n",
    "  # Set title\n",
    "  fig.update_layout(title_text=f\"{label} comparative by {columna}\")\n",
    "\n",
    "  return fig"
   ]
  },
  {
   "cell_type": "code",
   "execution_count": 23,
   "metadata": {},
   "outputs": [
    {
     "name": "stdout",
     "output_type": "stream",
     "text": [
      "#C44CB4\n",
      "#AFE009\n"
     ]
    },
    {
     "data": {
      "application/vnd.plotly.v1+json": {
       "config": {
        "plotlyServerURL": "https://plot.ly"
       },
       "data": [
        {
         "line": {
          "color": "#C44CB4"
         },
         "mode": "lines",
         "name": "Engagements applaunch",
         "type": "scatter",
         "x": [
          "2023-03-15T00:00:00+00:00",
          "2023-03-16T00:00:00+00:00",
          "2023-03-17T00:00:00+00:00",
          "2023-03-18T00:00:00+00:00",
          "2023-03-19T00:00:00+00:00",
          "2023-03-20T00:00:00+00:00",
          "2023-03-21T00:00:00+00:00",
          "2023-03-22T00:00:00+00:00",
          "2023-03-23T00:00:00+00:00",
          "2023-03-24T00:00:00+00:00",
          "2023-03-25T00:00:00+00:00",
          "2023-03-26T00:00:00+00:00",
          "2023-03-27T00:00:00+00:00",
          "2023-03-28T00:00:00+00:00",
          "2023-03-29T00:00:00+00:00",
          "2023-03-30T00:00:00+00:00",
          "2023-03-31T00:00:00+00:00",
          "2023-04-01T00:00:00+00:00",
          "2023-04-02T00:00:00+00:00",
          "2023-04-03T00:00:00+00:00",
          "2023-04-04T00:00:00+00:00",
          "2023-04-05T00:00:00+00:00",
          "2023-04-06T00:00:00+00:00",
          "2023-04-07T00:00:00+00:00",
          "2023-04-08T00:00:00+00:00",
          "2023-04-09T00:00:00+00:00",
          "2023-04-10T00:00:00+00:00",
          "2023-04-11T00:00:00+00:00",
          "2023-04-12T00:00:00+00:00",
          "2023-04-13T00:00:00+00:00",
          "2023-04-14T00:00:00+00:00",
          "2023-04-15T00:00:00+00:00",
          "2023-04-16T00:00:00+00:00",
          "2023-04-17T00:00:00+00:00",
          "2023-04-18T00:00:00+00:00",
          "2023-04-19T00:00:00+00:00",
          "2023-04-20T00:00:00+00:00",
          "2023-04-21T00:00:00+00:00",
          "2023-04-22T00:00:00+00:00",
          "2023-04-23T00:00:00+00:00",
          "2023-04-24T00:00:00+00:00",
          "2023-04-25T00:00:00+00:00",
          "2023-04-26T00:00:00+00:00",
          "2023-04-27T00:00:00+00:00",
          "2023-04-28T00:00:00+00:00",
          "2023-04-29T00:00:00+00:00",
          "2023-04-30T00:00:00+00:00",
          "2023-05-01T00:00:00+00:00",
          "2023-05-02T00:00:00+00:00",
          "2023-05-03T00:00:00+00:00",
          "2023-05-04T00:00:00+00:00",
          "2023-05-05T00:00:00+00:00",
          "2023-05-06T00:00:00+00:00",
          "2023-05-07T00:00:00+00:00",
          "2023-05-08T00:00:00+00:00",
          "2023-05-09T00:00:00+00:00",
          "2023-05-10T00:00:00+00:00",
          "2023-05-11T00:00:00+00:00",
          "2023-05-12T00:00:00+00:00",
          "2023-05-13T00:00:00+00:00",
          "2023-05-14T00:00:00+00:00",
          "2023-05-15T00:00:00+00:00",
          "2023-05-16T00:00:00+00:00",
          "2023-05-17T00:00:00+00:00",
          "2023-05-18T00:00:00+00:00",
          "2023-05-19T00:00:00+00:00",
          "2023-05-20T00:00:00+00:00",
          "2023-05-21T00:00:00+00:00",
          "2023-05-22T00:00:00+00:00",
          "2023-05-23T00:00:00+00:00",
          "2023-05-24T00:00:00+00:00",
          "2023-05-25T00:00:00+00:00",
          "2023-05-26T00:00:00+00:00",
          "2023-05-27T00:00:00+00:00",
          "2023-05-28T00:00:00+00:00",
          "2023-05-29T00:00:00+00:00",
          "2023-05-30T00:00:00+00:00",
          "2023-05-31T00:00:00+00:00",
          "2023-06-01T00:00:00+00:00",
          "2023-06-02T00:00:00+00:00",
          "2023-06-03T00:00:00+00:00",
          "2023-06-04T00:00:00+00:00",
          "2023-06-05T00:00:00+00:00",
          "2023-06-06T00:00:00+00:00",
          "2023-06-07T00:00:00+00:00",
          "2023-06-08T00:00:00+00:00",
          "2023-06-09T00:00:00+00:00",
          "2023-06-10T00:00:00+00:00",
          "2023-06-11T00:00:00+00:00",
          "2023-06-12T00:00:00+00:00",
          "2023-06-13T00:00:00+00:00",
          "2023-06-14T00:00:00+00:00"
         ],
         "y": [
          null,
          null,
          null,
          null,
          null,
          null,
          25002,
          24809,
          24312,
          24507,
          24401,
          24280,
          24008,
          23941,
          24306,
          24714,
          24678,
          24996,
          25504,
          26045,
          26182,
          26001,
          25691,
          26104,
          25658,
          25139,
          24749,
          24816,
          24457,
          24156,
          23722,
          23804,
          23783,
          23715,
          23313,
          23066,
          23129,
          22426,
          22053,
          21852,
          21471,
          20930,
          21316,
          20867,
          21056,
          21018,
          21092,
          21449,
          21931,
          21765,
          21874,
          22023,
          22413,
          22231,
          21834,
          21432,
          20500,
          20138,
          19519,
          18826,
          18625,
          18539,
          18453,
          18647,
          18563,
          18566,
          18431,
          18366,
          18196,
          17845,
          17451,
          17497,
          17249,
          17455,
          17371,
          16847,
          16711,
          17237,
          17722,
          18116,
          17748,
          17892,
          18580,
          18607,
          18974,
          19100,
          18827,
          19032,
          18919,
          18753,
          18776,
          18584
         ]
        },
        {
         "line": {
          "color": "#C44CB4",
          "dash": "dash"
         },
         "mode": "lines",
         "name": "Unique_users applaunch",
         "type": "scatter",
         "x": [
          "2023-03-15T00:00:00+00:00",
          "2023-03-16T00:00:00+00:00",
          "2023-03-17T00:00:00+00:00",
          "2023-03-18T00:00:00+00:00",
          "2023-03-19T00:00:00+00:00",
          "2023-03-20T00:00:00+00:00",
          "2023-03-21T00:00:00+00:00",
          "2023-03-22T00:00:00+00:00",
          "2023-03-23T00:00:00+00:00",
          "2023-03-24T00:00:00+00:00",
          "2023-03-25T00:00:00+00:00",
          "2023-03-26T00:00:00+00:00",
          "2023-03-27T00:00:00+00:00",
          "2023-03-28T00:00:00+00:00",
          "2023-03-29T00:00:00+00:00",
          "2023-03-30T00:00:00+00:00",
          "2023-03-31T00:00:00+00:00",
          "2023-04-01T00:00:00+00:00",
          "2023-04-02T00:00:00+00:00",
          "2023-04-03T00:00:00+00:00",
          "2023-04-04T00:00:00+00:00",
          "2023-04-05T00:00:00+00:00",
          "2023-04-06T00:00:00+00:00",
          "2023-04-07T00:00:00+00:00",
          "2023-04-08T00:00:00+00:00",
          "2023-04-09T00:00:00+00:00",
          "2023-04-10T00:00:00+00:00",
          "2023-04-11T00:00:00+00:00",
          "2023-04-12T00:00:00+00:00",
          "2023-04-13T00:00:00+00:00",
          "2023-04-14T00:00:00+00:00",
          "2023-04-15T00:00:00+00:00",
          "2023-04-16T00:00:00+00:00",
          "2023-04-17T00:00:00+00:00",
          "2023-04-18T00:00:00+00:00",
          "2023-04-19T00:00:00+00:00",
          "2023-04-20T00:00:00+00:00",
          "2023-04-21T00:00:00+00:00",
          "2023-04-22T00:00:00+00:00",
          "2023-04-23T00:00:00+00:00",
          "2023-04-24T00:00:00+00:00",
          "2023-04-25T00:00:00+00:00",
          "2023-04-26T00:00:00+00:00",
          "2023-04-27T00:00:00+00:00",
          "2023-04-28T00:00:00+00:00",
          "2023-04-29T00:00:00+00:00",
          "2023-04-30T00:00:00+00:00",
          "2023-05-01T00:00:00+00:00",
          "2023-05-02T00:00:00+00:00",
          "2023-05-03T00:00:00+00:00",
          "2023-05-04T00:00:00+00:00",
          "2023-05-05T00:00:00+00:00",
          "2023-05-06T00:00:00+00:00",
          "2023-05-07T00:00:00+00:00",
          "2023-05-08T00:00:00+00:00",
          "2023-05-09T00:00:00+00:00",
          "2023-05-10T00:00:00+00:00",
          "2023-05-11T00:00:00+00:00",
          "2023-05-12T00:00:00+00:00",
          "2023-05-13T00:00:00+00:00",
          "2023-05-14T00:00:00+00:00",
          "2023-05-15T00:00:00+00:00",
          "2023-05-16T00:00:00+00:00",
          "2023-05-17T00:00:00+00:00",
          "2023-05-18T00:00:00+00:00",
          "2023-05-19T00:00:00+00:00",
          "2023-05-20T00:00:00+00:00",
          "2023-05-21T00:00:00+00:00",
          "2023-05-22T00:00:00+00:00",
          "2023-05-23T00:00:00+00:00",
          "2023-05-24T00:00:00+00:00",
          "2023-05-25T00:00:00+00:00",
          "2023-05-26T00:00:00+00:00",
          "2023-05-27T00:00:00+00:00",
          "2023-05-28T00:00:00+00:00",
          "2023-05-29T00:00:00+00:00",
          "2023-05-30T00:00:00+00:00",
          "2023-05-31T00:00:00+00:00",
          "2023-06-01T00:00:00+00:00",
          "2023-06-02T00:00:00+00:00",
          "2023-06-03T00:00:00+00:00",
          "2023-06-04T00:00:00+00:00",
          "2023-06-05T00:00:00+00:00",
          "2023-06-06T00:00:00+00:00",
          "2023-06-07T00:00:00+00:00",
          "2023-06-08T00:00:00+00:00",
          "2023-06-09T00:00:00+00:00",
          "2023-06-10T00:00:00+00:00",
          "2023-06-11T00:00:00+00:00",
          "2023-06-12T00:00:00+00:00",
          "2023-06-13T00:00:00+00:00",
          "2023-06-14T00:00:00+00:00"
         ],
         "y": [
          0,
          2810,
          4447,
          5458,
          6197,
          6693,
          7344,
          7417,
          7373,
          7298,
          7281,
          7302,
          7104,
          6893,
          6892,
          7069,
          7119,
          7218,
          7383,
          7352,
          7305,
          7159,
          7122,
          7042,
          7184,
          7210,
          7011,
          6818,
          6909,
          6888,
          6731,
          6793,
          6915,
          6730,
          6544,
          6648,
          6705,
          6642,
          6616,
          6665,
          6515,
          6326,
          6361,
          6480,
          6460,
          6565,
          6638,
          6519,
          6517,
          6554,
          6714,
          6666,
          6773,
          6921,
          6699,
          6534,
          6463,
          6308,
          6155,
          6064,
          6067,
          5859,
          5719,
          6009,
          6059,
          6044,
          6097,
          6164,
          5942,
          5745,
          5831,
          5801,
          5812,
          5881,
          5984,
          5835,
          5595,
          5728,
          5774,
          5945,
          5963,
          6029,
          6023,
          6002,
          5985,
          6025,
          6179,
          6278,
          6281,
          6047,
          5999,
          5933
         ]
        },
        {
         "line": {
          "color": "#AFE009"
         },
         "mode": "lines",
         "name": "Engagements APP_EN_IRA_RET_ACCOUNT-CREATION-FAILURE",
         "type": "scatter",
         "x": [
          "2023-05-21T00:00:00+00:00",
          "2023-05-22T00:00:00+00:00",
          "2023-05-26T00:00:00+00:00",
          "2023-05-28T00:00:00+00:00",
          "2023-06-01T00:00:00+00:00",
          "2023-06-02T00:00:00+00:00",
          "2023-06-04T00:00:00+00:00"
         ],
         "y": [
          null,
          null,
          null,
          null,
          null,
          null,
          11
         ]
        },
        {
         "line": {
          "color": "#AFE009",
          "dash": "dash"
         },
         "mode": "lines",
         "name": "Unique_users APP_EN_IRA_RET_ACCOUNT-CREATION-FAILURE",
         "type": "scatter",
         "x": [
          "2023-05-21T00:00:00+00:00",
          "2023-05-22T00:00:00+00:00",
          "2023-05-26T00:00:00+00:00",
          "2023-05-28T00:00:00+00:00",
          "2023-06-01T00:00:00+00:00",
          "2023-06-02T00:00:00+00:00",
          "2023-06-04T00:00:00+00:00"
         ],
         "y": [
          0,
          1,
          1,
          3,
          3,
          2,
          3
         ]
        }
       ],
       "layout": {
        "template": {
         "data": {
          "bar": [
           {
            "error_x": {
             "color": "#2a3f5f"
            },
            "error_y": {
             "color": "#2a3f5f"
            },
            "marker": {
             "line": {
              "color": "#E5ECF6",
              "width": 0.5
             },
             "pattern": {
              "fillmode": "overlay",
              "size": 10,
              "solidity": 0.2
             }
            },
            "type": "bar"
           }
          ],
          "barpolar": [
           {
            "marker": {
             "line": {
              "color": "#E5ECF6",
              "width": 0.5
             },
             "pattern": {
              "fillmode": "overlay",
              "size": 10,
              "solidity": 0.2
             }
            },
            "type": "barpolar"
           }
          ],
          "carpet": [
           {
            "aaxis": {
             "endlinecolor": "#2a3f5f",
             "gridcolor": "white",
             "linecolor": "white",
             "minorgridcolor": "white",
             "startlinecolor": "#2a3f5f"
            },
            "baxis": {
             "endlinecolor": "#2a3f5f",
             "gridcolor": "white",
             "linecolor": "white",
             "minorgridcolor": "white",
             "startlinecolor": "#2a3f5f"
            },
            "type": "carpet"
           }
          ],
          "choropleth": [
           {
            "colorbar": {
             "outlinewidth": 0,
             "ticks": ""
            },
            "type": "choropleth"
           }
          ],
          "contour": [
           {
            "colorbar": {
             "outlinewidth": 0,
             "ticks": ""
            },
            "colorscale": [
             [
              0,
              "#0d0887"
             ],
             [
              0.1111111111111111,
              "#46039f"
             ],
             [
              0.2222222222222222,
              "#7201a8"
             ],
             [
              0.3333333333333333,
              "#9c179e"
             ],
             [
              0.4444444444444444,
              "#bd3786"
             ],
             [
              0.5555555555555556,
              "#d8576b"
             ],
             [
              0.6666666666666666,
              "#ed7953"
             ],
             [
              0.7777777777777778,
              "#fb9f3a"
             ],
             [
              0.8888888888888888,
              "#fdca26"
             ],
             [
              1,
              "#f0f921"
             ]
            ],
            "type": "contour"
           }
          ],
          "contourcarpet": [
           {
            "colorbar": {
             "outlinewidth": 0,
             "ticks": ""
            },
            "type": "contourcarpet"
           }
          ],
          "heatmap": [
           {
            "colorbar": {
             "outlinewidth": 0,
             "ticks": ""
            },
            "colorscale": [
             [
              0,
              "#0d0887"
             ],
             [
              0.1111111111111111,
              "#46039f"
             ],
             [
              0.2222222222222222,
              "#7201a8"
             ],
             [
              0.3333333333333333,
              "#9c179e"
             ],
             [
              0.4444444444444444,
              "#bd3786"
             ],
             [
              0.5555555555555556,
              "#d8576b"
             ],
             [
              0.6666666666666666,
              "#ed7953"
             ],
             [
              0.7777777777777778,
              "#fb9f3a"
             ],
             [
              0.8888888888888888,
              "#fdca26"
             ],
             [
              1,
              "#f0f921"
             ]
            ],
            "type": "heatmap"
           }
          ],
          "heatmapgl": [
           {
            "colorbar": {
             "outlinewidth": 0,
             "ticks": ""
            },
            "colorscale": [
             [
              0,
              "#0d0887"
             ],
             [
              0.1111111111111111,
              "#46039f"
             ],
             [
              0.2222222222222222,
              "#7201a8"
             ],
             [
              0.3333333333333333,
              "#9c179e"
             ],
             [
              0.4444444444444444,
              "#bd3786"
             ],
             [
              0.5555555555555556,
              "#d8576b"
             ],
             [
              0.6666666666666666,
              "#ed7953"
             ],
             [
              0.7777777777777778,
              "#fb9f3a"
             ],
             [
              0.8888888888888888,
              "#fdca26"
             ],
             [
              1,
              "#f0f921"
             ]
            ],
            "type": "heatmapgl"
           }
          ],
          "histogram": [
           {
            "marker": {
             "pattern": {
              "fillmode": "overlay",
              "size": 10,
              "solidity": 0.2
             }
            },
            "type": "histogram"
           }
          ],
          "histogram2d": [
           {
            "colorbar": {
             "outlinewidth": 0,
             "ticks": ""
            },
            "colorscale": [
             [
              0,
              "#0d0887"
             ],
             [
              0.1111111111111111,
              "#46039f"
             ],
             [
              0.2222222222222222,
              "#7201a8"
             ],
             [
              0.3333333333333333,
              "#9c179e"
             ],
             [
              0.4444444444444444,
              "#bd3786"
             ],
             [
              0.5555555555555556,
              "#d8576b"
             ],
             [
              0.6666666666666666,
              "#ed7953"
             ],
             [
              0.7777777777777778,
              "#fb9f3a"
             ],
             [
              0.8888888888888888,
              "#fdca26"
             ],
             [
              1,
              "#f0f921"
             ]
            ],
            "type": "histogram2d"
           }
          ],
          "histogram2dcontour": [
           {
            "colorbar": {
             "outlinewidth": 0,
             "ticks": ""
            },
            "colorscale": [
             [
              0,
              "#0d0887"
             ],
             [
              0.1111111111111111,
              "#46039f"
             ],
             [
              0.2222222222222222,
              "#7201a8"
             ],
             [
              0.3333333333333333,
              "#9c179e"
             ],
             [
              0.4444444444444444,
              "#bd3786"
             ],
             [
              0.5555555555555556,
              "#d8576b"
             ],
             [
              0.6666666666666666,
              "#ed7953"
             ],
             [
              0.7777777777777778,
              "#fb9f3a"
             ],
             [
              0.8888888888888888,
              "#fdca26"
             ],
             [
              1,
              "#f0f921"
             ]
            ],
            "type": "histogram2dcontour"
           }
          ],
          "mesh3d": [
           {
            "colorbar": {
             "outlinewidth": 0,
             "ticks": ""
            },
            "type": "mesh3d"
           }
          ],
          "parcoords": [
           {
            "line": {
             "colorbar": {
              "outlinewidth": 0,
              "ticks": ""
             }
            },
            "type": "parcoords"
           }
          ],
          "pie": [
           {
            "automargin": true,
            "type": "pie"
           }
          ],
          "scatter": [
           {
            "fillpattern": {
             "fillmode": "overlay",
             "size": 10,
             "solidity": 0.2
            },
            "type": "scatter"
           }
          ],
          "scatter3d": [
           {
            "line": {
             "colorbar": {
              "outlinewidth": 0,
              "ticks": ""
             }
            },
            "marker": {
             "colorbar": {
              "outlinewidth": 0,
              "ticks": ""
             }
            },
            "type": "scatter3d"
           }
          ],
          "scattercarpet": [
           {
            "marker": {
             "colorbar": {
              "outlinewidth": 0,
              "ticks": ""
             }
            },
            "type": "scattercarpet"
           }
          ],
          "scattergeo": [
           {
            "marker": {
             "colorbar": {
              "outlinewidth": 0,
              "ticks": ""
             }
            },
            "type": "scattergeo"
           }
          ],
          "scattergl": [
           {
            "marker": {
             "colorbar": {
              "outlinewidth": 0,
              "ticks": ""
             }
            },
            "type": "scattergl"
           }
          ],
          "scattermapbox": [
           {
            "marker": {
             "colorbar": {
              "outlinewidth": 0,
              "ticks": ""
             }
            },
            "type": "scattermapbox"
           }
          ],
          "scatterpolar": [
           {
            "marker": {
             "colorbar": {
              "outlinewidth": 0,
              "ticks": ""
             }
            },
            "type": "scatterpolar"
           }
          ],
          "scatterpolargl": [
           {
            "marker": {
             "colorbar": {
              "outlinewidth": 0,
              "ticks": ""
             }
            },
            "type": "scatterpolargl"
           }
          ],
          "scatterternary": [
           {
            "marker": {
             "colorbar": {
              "outlinewidth": 0,
              "ticks": ""
             }
            },
            "type": "scatterternary"
           }
          ],
          "surface": [
           {
            "colorbar": {
             "outlinewidth": 0,
             "ticks": ""
            },
            "colorscale": [
             [
              0,
              "#0d0887"
             ],
             [
              0.1111111111111111,
              "#46039f"
             ],
             [
              0.2222222222222222,
              "#7201a8"
             ],
             [
              0.3333333333333333,
              "#9c179e"
             ],
             [
              0.4444444444444444,
              "#bd3786"
             ],
             [
              0.5555555555555556,
              "#d8576b"
             ],
             [
              0.6666666666666666,
              "#ed7953"
             ],
             [
              0.7777777777777778,
              "#fb9f3a"
             ],
             [
              0.8888888888888888,
              "#fdca26"
             ],
             [
              1,
              "#f0f921"
             ]
            ],
            "type": "surface"
           }
          ],
          "table": [
           {
            "cells": {
             "fill": {
              "color": "#EBF0F8"
             },
             "line": {
              "color": "white"
             }
            },
            "header": {
             "fill": {
              "color": "#C8D4E3"
             },
             "line": {
              "color": "white"
             }
            },
            "type": "table"
           }
          ]
         },
         "layout": {
          "annotationdefaults": {
           "arrowcolor": "#2a3f5f",
           "arrowhead": 0,
           "arrowwidth": 1
          },
          "autotypenumbers": "strict",
          "coloraxis": {
           "colorbar": {
            "outlinewidth": 0,
            "ticks": ""
           }
          },
          "colorscale": {
           "diverging": [
            [
             0,
             "#8e0152"
            ],
            [
             0.1,
             "#c51b7d"
            ],
            [
             0.2,
             "#de77ae"
            ],
            [
             0.3,
             "#f1b6da"
            ],
            [
             0.4,
             "#fde0ef"
            ],
            [
             0.5,
             "#f7f7f7"
            ],
            [
             0.6,
             "#e6f5d0"
            ],
            [
             0.7,
             "#b8e186"
            ],
            [
             0.8,
             "#7fbc41"
            ],
            [
             0.9,
             "#4d9221"
            ],
            [
             1,
             "#276419"
            ]
           ],
           "sequential": [
            [
             0,
             "#0d0887"
            ],
            [
             0.1111111111111111,
             "#46039f"
            ],
            [
             0.2222222222222222,
             "#7201a8"
            ],
            [
             0.3333333333333333,
             "#9c179e"
            ],
            [
             0.4444444444444444,
             "#bd3786"
            ],
            [
             0.5555555555555556,
             "#d8576b"
            ],
            [
             0.6666666666666666,
             "#ed7953"
            ],
            [
             0.7777777777777778,
             "#fb9f3a"
            ],
            [
             0.8888888888888888,
             "#fdca26"
            ],
            [
             1,
             "#f0f921"
            ]
           ],
           "sequentialminus": [
            [
             0,
             "#0d0887"
            ],
            [
             0.1111111111111111,
             "#46039f"
            ],
            [
             0.2222222222222222,
             "#7201a8"
            ],
            [
             0.3333333333333333,
             "#9c179e"
            ],
            [
             0.4444444444444444,
             "#bd3786"
            ],
            [
             0.5555555555555556,
             "#d8576b"
            ],
            [
             0.6666666666666666,
             "#ed7953"
            ],
            [
             0.7777777777777778,
             "#fb9f3a"
            ],
            [
             0.8888888888888888,
             "#fdca26"
            ],
            [
             1,
             "#f0f921"
            ]
           ]
          },
          "colorway": [
           "#636efa",
           "#EF553B",
           "#00cc96",
           "#ab63fa",
           "#FFA15A",
           "#19d3f3",
           "#FF6692",
           "#B6E880",
           "#FF97FF",
           "#FECB52"
          ],
          "font": {
           "color": "#2a3f5f"
          },
          "geo": {
           "bgcolor": "white",
           "lakecolor": "white",
           "landcolor": "#E5ECF6",
           "showlakes": true,
           "showland": true,
           "subunitcolor": "white"
          },
          "hoverlabel": {
           "align": "left"
          },
          "hovermode": "closest",
          "mapbox": {
           "style": "light"
          },
          "paper_bgcolor": "white",
          "plot_bgcolor": "#E5ECF6",
          "polar": {
           "angularaxis": {
            "gridcolor": "white",
            "linecolor": "white",
            "ticks": ""
           },
           "bgcolor": "#E5ECF6",
           "radialaxis": {
            "gridcolor": "white",
            "linecolor": "white",
            "ticks": ""
           }
          },
          "scene": {
           "xaxis": {
            "backgroundcolor": "#E5ECF6",
            "gridcolor": "white",
            "gridwidth": 2,
            "linecolor": "white",
            "showbackground": true,
            "ticks": "",
            "zerolinecolor": "white"
           },
           "yaxis": {
            "backgroundcolor": "#E5ECF6",
            "gridcolor": "white",
            "gridwidth": 2,
            "linecolor": "white",
            "showbackground": true,
            "ticks": "",
            "zerolinecolor": "white"
           },
           "zaxis": {
            "backgroundcolor": "#E5ECF6",
            "gridcolor": "white",
            "gridwidth": 2,
            "linecolor": "white",
            "showbackground": true,
            "ticks": "",
            "zerolinecolor": "white"
           }
          },
          "shapedefaults": {
           "line": {
            "color": "#2a3f5f"
           }
          },
          "ternary": {
           "aaxis": {
            "gridcolor": "white",
            "linecolor": "white",
            "ticks": ""
           },
           "baxis": {
            "gridcolor": "white",
            "linecolor": "white",
            "ticks": ""
           },
           "bgcolor": "#E5ECF6",
           "caxis": {
            "gridcolor": "white",
            "linecolor": "white",
            "ticks": ""
           }
          },
          "title": {
           "x": 0.05
          },
          "xaxis": {
           "automargin": true,
           "gridcolor": "white",
           "linecolor": "white",
           "ticks": "",
           "title": {
            "standoff": 15
           },
           "zerolinecolor": "white",
           "zerolinewidth": 2
          },
          "yaxis": {
           "automargin": true,
           "gridcolor": "white",
           "linecolor": "white",
           "ticks": "",
           "title": {
            "standoff": 15
           },
           "zerolinecolor": "white",
           "zerolinewidth": 2
          }
         }
        },
        "title": {
         "text": "7 days comparative by UTMCampaign"
        }
       }
      }
     },
     "metadata": {},
     "output_type": "display_data"
    }
   ],
   "source": [
    "plot_engagements_users_comparative_v2(rolled_v2.reset_index(), str(7) +' days', \"UTMCampaign\", [\"applaunch\",\"APP_EN_IRA_RET_ACCOUNT-CREATION-FAILURE\"])"
   ]
  },
  {
   "cell_type": "code",
   "execution_count": 49,
   "metadata": {},
   "outputs": [],
   "source": [
    "utmCampaign_list = df.UTMCampaign.value_counts().reset_index()\n",
    "utmCampaign_list = list(utmCampaign_list[\"UTMCampaign\"])"
   ]
  },
  {
   "cell_type": "code",
   "execution_count": 47,
   "metadata": {},
   "outputs": [
    {
     "data": {
      "text/html": [
       "<div>\n",
       "<style scoped>\n",
       "    .dataframe tbody tr th:only-of-type {\n",
       "        vertical-align: middle;\n",
       "    }\n",
       "\n",
       "    .dataframe tbody tr th {\n",
       "        vertical-align: top;\n",
       "    }\n",
       "\n",
       "    .dataframe thead th {\n",
       "        text-align: right;\n",
       "    }\n",
       "</style>\n",
       "<table border=\"1\" class=\"dataframe\">\n",
       "  <thead>\n",
       "    <tr style=\"text-align: right;\">\n",
       "      <th></th>\n",
       "      <th>index</th>\n",
       "      <th>UTMCampaign</th>\n",
       "    </tr>\n",
       "  </thead>\n",
       "  <tbody>\n",
       "    <tr>\n",
       "      <th>0</th>\n",
       "      <td>applaunch</td>\n",
       "      <td>291435</td>\n",
       "    </tr>\n",
       "    <tr>\n",
       "      <th>1</th>\n",
       "      <td>APP_ES_RET_AUTODEPOSIT_STREAK-PUSH</td>\n",
       "      <td>9026</td>\n",
       "    </tr>\n",
       "    <tr>\n",
       "      <th>2</th>\n",
       "      <td>APP_ES_RET_USER_WEEKLY_SUMMARY</td>\n",
       "      <td>7777</td>\n",
       "    </tr>\n",
       "    <tr>\n",
       "      <th>3</th>\n",
       "      <td>APP_ES_RET_DIVIDENDS_RECEIVED</td>\n",
       "      <td>6181</td>\n",
       "    </tr>\n",
       "    <tr>\n",
       "      <th>4</th>\n",
       "      <td>APP_ES_RET_AUTODEPOSIT_RECEIVED</td>\n",
       "      <td>5047</td>\n",
       "    </tr>\n",
       "    <tr>\n",
       "      <th>...</th>\n",
       "      <td>...</td>\n",
       "      <td>...</td>\n",
       "    </tr>\n",
       "    <tr>\n",
       "      <th>645</th>\n",
       "      <td>20220308_Upate_Info_ENG</td>\n",
       "      <td>1</td>\n",
       "    </tr>\n",
       "    <tr>\n",
       "      <th>646</th>\n",
       "      <td>APP_EN_TAX_RET_ITIN-3-EMAIL</td>\n",
       "      <td>1</td>\n",
       "    </tr>\n",
       "    <tr>\n",
       "      <th>647</th>\n",
       "      <td>APP_EN_RET_INVESTMENT-SELECTION-1-EMAIL</td>\n",
       "      <td>1</td>\n",
       "    </tr>\n",
       "    <tr>\n",
       "      <th>648</th>\n",
       "      <td>email_EN_20230309_IRAaccount</td>\n",
       "      <td>1</td>\n",
       "    </tr>\n",
       "    <tr>\n",
       "      <th>649</th>\n",
       "      <td>EMAIL_ES_20210915_referral_email</td>\n",
       "      <td>1</td>\n",
       "    </tr>\n",
       "  </tbody>\n",
       "</table>\n",
       "<p>650 rows × 2 columns</p>\n",
       "</div>"
      ],
      "text/plain": [
       "                                       index  UTMCampaign\n",
       "0                                  applaunch       291435\n",
       "1         APP_ES_RET_AUTODEPOSIT_STREAK-PUSH         9026\n",
       "2             APP_ES_RET_USER_WEEKLY_SUMMARY         7777\n",
       "3              APP_ES_RET_DIVIDENDS_RECEIVED         6181\n",
       "4            APP_ES_RET_AUTODEPOSIT_RECEIVED         5047\n",
       "..                                       ...          ...\n",
       "645                  20220308_Upate_Info_ENG            1\n",
       "646              APP_EN_TAX_RET_ITIN-3-EMAIL            1\n",
       "647  APP_EN_RET_INVESTMENT-SELECTION-1-EMAIL            1\n",
       "648             email_EN_20230309_IRAaccount            1\n",
       "649         EMAIL_ES_20210915_referral_email            1\n",
       "\n",
       "[650 rows x 2 columns]"
      ]
     },
     "execution_count": 47,
     "metadata": {},
     "output_type": "execute_result"
    }
   ],
   "source": [
    "df.UTMCampaign.value_counts().reset_index()"
   ]
  }
 ],
 "metadata": {
  "kernelspec": {
   "display_name": "Python 3",
   "language": "python",
   "name": "python3"
  },
  "language_info": {
   "codemirror_mode": {
    "name": "ipython",
    "version": 3
   },
   "file_extension": ".py",
   "mimetype": "text/x-python",
   "name": "python",
   "nbconvert_exporter": "python",
   "pygments_lexer": "ipython3",
   "version": "3.10.0"
  },
  "orig_nbformat": 4
 },
 "nbformat": 4,
 "nbformat_minor": 2
}
